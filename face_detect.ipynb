{
 "cells": [
  {
   "cell_type": "code",
   "execution_count": null,
   "id": "9403a70a",
   "metadata": {},
   "outputs": [
    {
     "ename": "ModuleNotFoundError",
     "evalue": "No module named 'cv2'",
     "output_type": "error",
     "traceback": [
      "\u001b[0;31m---------------------------------------------------------------------------\u001b[0m",
      "\u001b[0;31mModuleNotFoundError\u001b[0m                       Traceback (most recent call last)",
      "Cell \u001b[0;32mIn[1], line 1\u001b[0m\n\u001b[0;32m----> 1\u001b[0m \u001b[38;5;28;01mimport\u001b[39;00m \u001b[38;5;21;01mcv2\u001b[39;00m\n\u001b[1;32m      3\u001b[0m face_cascade\u001b[38;5;241m=\u001b[39mcv2\u001b[38;5;241m.\u001b[39mCascadeClassifier(\u001b[38;5;124m\"\u001b[39m\u001b[38;5;124mhaarcascade_frontalface_default.xml\u001b[39m\u001b[38;5;124m\"\u001b[39m)\n\u001b[1;32m      5\u001b[0m img\u001b[38;5;241m=\u001b[39mcv2\u001b[38;5;241m.\u001b[39mimread(\u001b[38;5;124m\"\u001b[39m\u001b[38;5;124mphoto1.jpg\u001b[39m\u001b[38;5;124m\"\u001b[39m)\n",
      "\u001b[0;31mModuleNotFoundError\u001b[0m: No module named 'cv2'"
     ]
    }
   ],
   "source": [
    "import cv2"
   ]
  },
  {
   "cell_type": "code",
   "execution_count": null,
   "id": "ae3ba2ea",
   "metadata": {},
   "outputs": [],
   "source": [
    "#Opencv provides a pretrained Haar cascade models to detect faces and eyes in an image\n",
    "face_cascade=cv2.CascadeClassifier(\"haarcascade_frontalface_default.xml\")"
   ]
  },
  {
   "cell_type": "code",
   "execution_count": null,
   "id": "4e64730a",
   "metadata": {},
   "outputs": [],
   "source": [
    "#read the sample image\n",
    "img=cv2.imread(\"photo1.jpg\")"
   ]
  },
  {
   "cell_type": "code",
   "execution_count": null,
   "id": "7e873560",
   "metadata": {},
   "outputs": [],
   "source": [
    "#Set the image color to grey\n",
    "gray_img=cv2.cvtColor(img,cv2.COLOR_BGR2GRAY)"
   ]
  },
  {
   "cell_type": "code",
   "execution_count": null,
   "id": "eb93924f",
   "metadata": {},
   "outputs": [],
   "source": [
    "#Detects objects of different sizes in the input image\n",
    "faces=face_cascade.detectMultiScale(gray_img,\n",
    "#scalefactor specifies how much the image size is reduced at each scale                           \n",
    "        scaleFactor=1.05,\n",
    "#minneighbours defines how many neighbors each candidate rectangle should have to retain it. \n",
    "        minNeighbors=5)"
   ]
  },
  {
   "cell_type": "code",
   "execution_count": null,
   "id": "110ef0a4",
   "metadata": {},
   "outputs": [],
   "source": [
    "#draws rectangle around the image\n",
    "for x,y,w,h in faces:\n",
    "    ing=cv2.rectangle(img,(x,y),(x+w,y+h),(0,255,0),3)"
   ]
  },
  {
   "cell_type": "code",
   "execution_count": null,
   "id": "a2a3d9f7",
   "metadata": {},
   "outputs": [],
   "source": [
    "print(type(faces))\n",
    "print(faces)"
   ]
  },
  {
   "cell_type": "code",
   "execution_count": null,
   "id": "8a03b945",
   "metadata": {},
   "outputs": [],
   "source": [
    "cv2.imshow(\"Gray\",img)"
   ]
  },
  {
   "cell_type": "code",
   "execution_count": null,
   "id": "7dd4defb",
   "metadata": {},
   "outputs": [],
   "source": [
    "cv2.waitKey(0)"
   ]
  },
  {
   "cell_type": "code",
   "execution_count": null,
   "id": "490e079a",
   "metadata": {},
   "outputs": [],
   "source": [
    "cv2.destroyAllWindows()"
   ]
  }
 ],
 "metadata": {
  "kernelspec": {
   "display_name": "Python 3 (ipykernel)",
   "language": "python",
   "name": "python3"
  }
 },
 "nbformat": 4,
 "nbformat_minor": 5
}
